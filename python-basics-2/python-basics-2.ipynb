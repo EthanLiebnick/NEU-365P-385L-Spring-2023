{
 "cells": [
  {
   "cell_type": "code",
   "execution_count": 1,
   "id": "01df27fd",
   "metadata": {
    "slideshow": {
     "slide_type": "skip"
    }
   },
   "outputs": [
    {
     "data": {
      "text/html": [
       "<link rel=\"stylesheet\" type=\"text/css\" href=\"css/rise.css\" />\n"
      ],
      "text/plain": [
       "<IPython.core.display.HTML object>"
      ]
     },
     "metadata": {},
     "output_type": "display_data"
    }
   ],
   "source": [
    "%%html\n",
    "<link rel=\"stylesheet\" type=\"text/css\" href=\"css/rise.css\" />"
   ]
  },
  {
   "cell_type": "markdown",
   "id": "0cd31932",
   "metadata": {
    "slideshow": {
     "slide_type": "slide"
    }
   },
   "source": [
    "# Python basics - Part 2\n",
    "\n",
    "- Lists\n",
    "- Dictionaries\n",
    "- Iterating lists and dictionaries\n",
    "- Assignment vs. mutation\n",
    "- Functions"
   ]
  },
  {
   "cell_type": "markdown",
   "id": "042bc5b0",
   "metadata": {
    "slideshow": {
     "slide_type": "slide"
    }
   },
   "source": [
    "# Lists\n",
    "\n",
    "- *Lists*\n",
    "- Dictionaries\n",
    "- Iterating lists and dictionaries\n",
    "- Assignment vs. mutation\n",
    "- Functions"
   ]
  },
  {
   "cell_type": "markdown",
   "id": "15e4323b",
   "metadata": {
    "cell_style": "center",
    "slideshow": {
     "slide_type": "slide"
    }
   },
   "source": [
    "### Learning goals - *Lists*\n",
    "\n",
    "|  |  |  |\n",
    "|--|--|--|\n",
    "| <img src=\"images/thinking-icon.png\"> | <div class=\"alert alert-info\">You will be able to work with lists of items.</div> | `[1, 2, \"hi\"]` |\n",
    "| <img src=\"images/thinking-icon.png\"> | <div class=\"alert alert-info\">You will be able to index/slice into a list.</div> | `list[start:stop:step]` |\n",
    "| <img src=\"images/thinking-icon.png\"> | <div class=\"alert alert-info\">You will be able to use simple list comprehensions.</div> | `[x**2 for x in values]` |"
   ]
  },
  {
   "cell_type": "code",
   "execution_count": 2,
   "id": "0f0afe40",
   "metadata": {
    "slideshow": {
     "slide_type": "slide"
    }
   },
   "outputs": [
    {
     "data": {
      "text/plain": [
       "[1, 2, 3.4, 'hi', True]"
      ]
     },
     "execution_count": 2,
     "metadata": {},
     "output_type": "execute_result"
    }
   ],
   "source": [
    "alist = [1, 2, 3.4, \"hi\", True]\n",
    "alist"
   ]
  },
  {
   "cell_type": "code",
   "execution_count": 3,
   "id": "a0675fae",
   "metadata": {
    "slideshow": {
     "slide_type": "fragment"
    }
   },
   "outputs": [
    {
     "data": {
      "text/plain": [
       "5"
      ]
     },
     "execution_count": 3,
     "metadata": {},
     "output_type": "execute_result"
    }
   ],
   "source": [
    "len(alist)"
   ]
  },
  {
   "cell_type": "code",
   "execution_count": 4,
   "id": "506d36a6",
   "metadata": {
    "slideshow": {
     "slide_type": "fragment"
    }
   },
   "outputs": [
    {
     "data": {
      "text/plain": [
       "0"
      ]
     },
     "execution_count": 4,
     "metadata": {},
     "output_type": "execute_result"
    }
   ],
   "source": [
    "blist = []\n",
    "len(blist)"
   ]
  },
  {
   "cell_type": "code",
   "execution_count": 5,
   "id": "2bd00b16",
   "metadata": {
    "slideshow": {
     "slide_type": "fragment"
    }
   },
   "outputs": [
    {
     "data": {
      "text/plain": [
       "[2, 5.4, False]"
      ]
     },
     "execution_count": 5,
     "metadata": {},
     "output_type": "execute_result"
    }
   ],
   "source": [
    "blist.append(2)             # append a single value\n",
    "blist.extend([5.4, False])  # extend by a list of values\n",
    "blist"
   ]
  },
  {
   "cell_type": "code",
   "execution_count": 6,
   "id": "d31d337c",
   "metadata": {
    "slideshow": {
     "slide_type": "fragment"
    }
   },
   "outputs": [
    {
     "data": {
      "text/plain": [
       "[5.4, False]"
      ]
     },
     "execution_count": 6,
     "metadata": {},
     "output_type": "execute_result"
    }
   ],
   "source": [
    "blist.remove(2)\n",
    "blist"
   ]
  },
  {
   "cell_type": "markdown",
   "id": "888e209c",
   "metadata": {
    "slideshow": {
     "slide_type": "slide"
    }
   },
   "source": [
    "### List unpacking"
   ]
  },
  {
   "cell_type": "code",
   "execution_count": 7,
   "id": "573c0b6d",
   "metadata": {},
   "outputs": [
    {
     "name": "stdout",
     "output_type": "stream",
     "text": [
      "1\n",
      "hi\n",
      "True\n"
     ]
    }
   ],
   "source": [
    "mylist = [1, \"hi\", True]\n",
    "\n",
    "a, b, c = mylist\n",
    "\n",
    "print(a)\n",
    "print(b)\n",
    "print(c)"
   ]
  },
  {
   "cell_type": "markdown",
   "id": "e431fc84",
   "metadata": {
    "cell_style": "split",
    "slideshow": {
     "slide_type": "slide"
    }
   },
   "source": [
    "### List indexing\n",
    "\n",
    "<img src=\"images/list-indexing.drawio.svg\" width=\"100%\">"
   ]
  },
  {
   "cell_type": "code",
   "execution_count": 8,
   "id": "f4f479fc",
   "metadata": {
    "cell_style": "split",
    "slideshow": {
     "slide_type": "fragment"
    }
   },
   "outputs": [
    {
     "data": {
      "text/plain": [
       "1"
      ]
     },
     "execution_count": 8,
     "metadata": {},
     "output_type": "execute_result"
    }
   ],
   "source": [
    "mylist = [1, 2, 3.4, \"hi\", True]\n",
    "\n",
    "mylist[0]"
   ]
  },
  {
   "cell_type": "code",
   "execution_count": 9,
   "id": "8d487d78",
   "metadata": {
    "cell_style": "split",
    "slideshow": {
     "slide_type": "fragment"
    }
   },
   "outputs": [
    {
     "data": {
      "text/plain": [
       "(1, 2, True, 'hi')"
      ]
     },
     "execution_count": 9,
     "metadata": {},
     "output_type": "execute_result"
    }
   ],
   "source": [
    "mylist[0], mylist[1], mylist[-1], mylist[-2]"
   ]
  },
  {
   "cell_type": "markdown",
   "id": "01e19d96",
   "metadata": {
    "slideshow": {
     "slide_type": "slide"
    }
   },
   "source": [
    "# Exercise\n",
    "\n",
    "<div class=\"alert alert-info\">\n",
    "    Use list indexing to assign the specified subjects in from the given list of subjects.\n",
    "</div>"
   ]
  },
  {
   "cell_type": "code",
   "execution_count": 10,
   "id": "cadb1f86",
   "metadata": {},
   "outputs": [],
   "source": [
    "subjects = [\"M0159\", \"F0287\", \"FBEST\", \"MALZ\", \"FOG17\"]\n",
    "\n",
    "# first_subject = ...\n",
    "# second_subject = ...\n",
    "# second_to_last_subject = ...\n",
    "# last_subject = ..."
   ]
  },
  {
   "cell_type": "markdown",
   "id": "2d0ca2c8",
   "metadata": {
    "slideshow": {
     "slide_type": "slide"
    }
   },
   "source": [
    "# Exercise Key\n",
    "\n",
    "<div class=\"alert alert-info\">\n",
    "    Use list indexing to assign the specified subjects in from the given list of subjects.\n",
    "</div>"
   ]
  },
  {
   "cell_type": "code",
   "execution_count": 11,
   "id": "d197baf5",
   "metadata": {},
   "outputs": [],
   "source": [
    "subjects = [\"M0159\", \"F0287\", \"FBEST\", \"MALZ\", \"FOG17\"]\n",
    "\n",
    "first_subject = subjects[0]\n",
    "second_subject = subjects[1]\n",
    "second_to_last_subject = subjects[-2]\n",
    "last_subject = subjects[-1]"
   ]
  },
  {
   "cell_type": "markdown",
   "id": "25d0884f",
   "metadata": {
    "slideshow": {
     "slide_type": "slide"
    }
   },
   "source": [
    "You can use a variable to index into a list."
   ]
  },
  {
   "cell_type": "code",
   "execution_count": 12,
   "id": "5d125b02",
   "metadata": {},
   "outputs": [
    {
     "data": {
      "text/plain": [
       "'hi'"
      ]
     },
     "execution_count": 12,
     "metadata": {},
     "output_type": "execute_result"
    }
   ],
   "source": [
    "mylist = [1, 2, 3.4, \"hi\", True]\n",
    "\n",
    "i = 3\n",
    "\n",
    "mylist[i]"
   ]
  },
  {
   "cell_type": "markdown",
   "id": "6fb05038",
   "metadata": {
    "slideshow": {
     "slide_type": "fragment"
    }
   },
   "source": [
    "You can edit list items via their index."
   ]
  },
  {
   "cell_type": "code",
   "execution_count": 13,
   "id": "36260152",
   "metadata": {},
   "outputs": [
    {
     "data": {
      "text/plain": [
       "[-1, 2, 3.4, 'bye', True]"
      ]
     },
     "execution_count": 13,
     "metadata": {},
     "output_type": "execute_result"
    }
   ],
   "source": [
    "mylist[i] = \"bye\"\n",
    "mylist[0] = mylist[0] - 2\n",
    "\n",
    "mylist"
   ]
  },
  {
   "cell_type": "markdown",
   "id": "80f5e30f",
   "metadata": {
    "slideshow": {
     "slide_type": "slide"
    }
   },
   "source": [
    "You can insert and delete list items via their index."
   ]
  },
  {
   "cell_type": "code",
   "execution_count": 14,
   "id": "ad975f5c",
   "metadata": {},
   "outputs": [
    {
     "data": {
      "text/plain": [
       "[1, 800, 2, 3.4, 'hi', True]"
      ]
     },
     "execution_count": 14,
     "metadata": {},
     "output_type": "execute_result"
    }
   ],
   "source": [
    "mylist = [1, 2, 3.4, \"hi\", True]\n",
    "\n",
    "mylist.insert(1, 800)\n",
    "\n",
    "mylist"
   ]
  },
  {
   "cell_type": "code",
   "execution_count": 15,
   "id": "a1fd2772",
   "metadata": {},
   "outputs": [
    {
     "data": {
      "text/plain": [
       "[1, 800, 2, 'hi', True]"
      ]
     },
     "execution_count": 15,
     "metadata": {},
     "output_type": "execute_result"
    }
   ],
   "source": [
    "del mylist[-3]\n",
    "\n",
    "mylist"
   ]
  },
  {
   "cell_type": "markdown",
   "id": "b6e4ea0c",
   "metadata": {
    "slideshow": {
     "slide_type": "slide"
    }
   },
   "source": [
    "### List slicing\n",
    "\n",
    "    list[start:stop]\n",
    "    list[start:stop:step]\n",
    "\n",
    "<img src=\"images/list-slicing.drawio.svg\" width=\"50%\">"
   ]
  },
  {
   "cell_type": "markdown",
   "id": "555d4e1c",
   "metadata": {
    "slideshow": {
     "slide_type": "slide"
    }
   },
   "source": [
    "    list[start:stop]\n",
    "    list[start:stop:step]"
   ]
  },
  {
   "cell_type": "code",
   "execution_count": 16,
   "id": "92a8d4ad",
   "metadata": {},
   "outputs": [
    {
     "data": {
      "text/plain": [
       "[2, 3.4, 'hi']"
      ]
     },
     "execution_count": 16,
     "metadata": {},
     "output_type": "execute_result"
    }
   ],
   "source": [
    "mylist = [1, 2, 3.4, \"hi\", True, 5, 82, 99]\n",
    "\n",
    "# 1:4 ==> 1,2,3\n",
    "\n",
    "mylist[1:4]"
   ]
  },
  {
   "cell_type": "code",
   "execution_count": 17,
   "id": "d7831bcb",
   "metadata": {},
   "outputs": [
    {
     "data": {
      "text/plain": [
       "[2, 'hi', 5]"
      ]
     },
     "execution_count": 17,
     "metadata": {},
     "output_type": "execute_result"
    }
   ],
   "source": [
    "# 1:7:2 ==> 1,3,5\n",
    "\n",
    "mylist[1:7:2]"
   ]
  },
  {
   "cell_type": "markdown",
   "id": "7b242f9f",
   "metadata": {
    "slideshow": {
     "slide_type": "slide"
    }
   },
   "source": [
    "### List slice defaults\n",
    "\n",
    "<img src=\"images/list-slicing-defaults.drawio.svg\" width=\"50%\">"
   ]
  },
  {
   "cell_type": "code",
   "execution_count": 18,
   "id": "edfad2dc",
   "metadata": {
    "slideshow": {
     "slide_type": "slide"
    }
   },
   "outputs": [
    {
     "data": {
      "text/plain": [
       "[True, 5, 82, 99]"
      ]
     },
     "execution_count": 18,
     "metadata": {},
     "output_type": "execute_result"
    }
   ],
   "source": [
    "mylist = [1, 2, 3.4, \"hi\", True, 5, 82, 99]\n",
    "\n",
    "mylist[4:]  # index 4 and everything after"
   ]
  },
  {
   "cell_type": "code",
   "execution_count": 19,
   "id": "806e2984",
   "metadata": {
    "slideshow": {
     "slide_type": "fragment"
    }
   },
   "outputs": [
    {
     "data": {
      "text/plain": [
       "[1, 2, 3.4, 'hi']"
      ]
     },
     "execution_count": 19,
     "metadata": {},
     "output_type": "execute_result"
    }
   ],
   "source": [
    "mylist[:4]  # everything before index 4"
   ]
  },
  {
   "cell_type": "code",
   "execution_count": 20,
   "id": "8729dae8",
   "metadata": {
    "slideshow": {
     "slide_type": "fragment"
    }
   },
   "outputs": [
    {
     "data": {
      "text/plain": [
       "[1, 2, 3.4, 'hi', True, 5, 82, 99]"
      ]
     },
     "execution_count": 20,
     "metadata": {},
     "output_type": "execute_result"
    }
   ],
   "source": [
    "mylist[:]  # everything"
   ]
  },
  {
   "cell_type": "code",
   "execution_count": 21,
   "id": "2ded18c5",
   "metadata": {
    "slideshow": {
     "slide_type": "fragment"
    }
   },
   "outputs": [
    {
     "data": {
      "text/plain": [
       "[1, 3.4, True, 82]"
      ]
     },
     "execution_count": 21,
     "metadata": {},
     "output_type": "execute_result"
    }
   ],
   "source": [
    "mylist[::2]  # every other item"
   ]
  },
  {
   "cell_type": "markdown",
   "id": "c1104c0a",
   "metadata": {
    "slideshow": {
     "slide_type": "slide"
    }
   },
   "source": [
    "# Exercise\n",
    "\n",
    "<div class=\"alert alert-info\">\n",
    "    Use list slicing to get the odd or non-negative even numbers from the specified list.\n",
    "</div>"
   ]
  },
  {
   "cell_type": "code",
   "execution_count": 22,
   "id": "0bfa5d83",
   "metadata": {},
   "outputs": [],
   "source": [
    "numbers = [-2, -1, 0, 1, 2, 3, 4, 5, 6, 7, 8, 9]\n",
    "\n",
    "# odds = numbers[...]\n",
    "# non_neg_evens = numbers[...]\n",
    "\n",
    "# odds, non_neg_evens"
   ]
  },
  {
   "cell_type": "markdown",
   "id": "21bbdc5e",
   "metadata": {
    "slideshow": {
     "slide_type": "slide"
    }
   },
   "source": [
    "# Exercise Key\n",
    "\n",
    "<div class=\"alert alert-info\">\n",
    "    Use list slicing to get the odd or non-negative even numbers from the specified list.\n",
    "</div>"
   ]
  },
  {
   "cell_type": "code",
   "execution_count": 23,
   "id": "72fdc2e0",
   "metadata": {},
   "outputs": [
    {
     "data": {
      "text/plain": [
       "([-1, 1, 3, 5, 7, 9], [0, 2, 4, 6, 8])"
      ]
     },
     "execution_count": 23,
     "metadata": {},
     "output_type": "execute_result"
    }
   ],
   "source": [
    "numbers = [-2, -1, 0, 1, 2, 3, 4, 5, 6, 7, 8, 9]\n",
    "\n",
    "odds = numbers[1::2]\n",
    "non_neg_evens = numbers[2::2]\n",
    "\n",
    "odds, non_neg_evens"
   ]
  },
  {
   "cell_type": "markdown",
   "id": "df0128a2",
   "metadata": {
    "slideshow": {
     "slide_type": "slide"
    }
   },
   "source": [
    "### Nested lists"
   ]
  },
  {
   "cell_type": "code",
   "execution_count": 24,
   "id": "8f6bcf4b",
   "metadata": {},
   "outputs": [
    {
     "data": {
      "text/plain": [
       "[1, 2, [3, 4]]"
      ]
     },
     "execution_count": 24,
     "metadata": {},
     "output_type": "execute_result"
    }
   ],
   "source": [
    "mylist = [1, 2, [3, 4]]\n",
    "\n",
    "mylist"
   ]
  },
  {
   "cell_type": "code",
   "execution_count": 25,
   "id": "ee0c9507",
   "metadata": {},
   "outputs": [
    {
     "data": {
      "text/plain": [
       "[3, 4]"
      ]
     },
     "execution_count": 25,
     "metadata": {},
     "output_type": "execute_result"
    }
   ],
   "source": [
    "mylist[2]"
   ]
  },
  {
   "cell_type": "code",
   "execution_count": 26,
   "id": "d0875070",
   "metadata": {},
   "outputs": [
    {
     "data": {
      "text/plain": [
       "4"
      ]
     },
     "execution_count": 26,
     "metadata": {},
     "output_type": "execute_result"
    }
   ],
   "source": [
    "mylist[2][-1]"
   ]
  },
  {
   "cell_type": "markdown",
   "id": "98239b35",
   "metadata": {
    "slideshow": {
     "slide_type": "fragment"
    }
   },
   "source": [
    "<div class=\"alert alert-warning\">!!! This quickly becomes cumbersome with more than a few levels of nesting.</div>"
   ]
  },
  {
   "cell_type": "markdown",
   "id": "1528e51a",
   "metadata": {
    "slideshow": {
     "slide_type": "slide"
    }
   },
   "source": [
    "### List comprehension\n",
    "\n",
    "`[expression for item in collection]`"
   ]
  },
  {
   "cell_type": "code",
   "execution_count": 27,
   "id": "d926927d",
   "metadata": {},
   "outputs": [
    {
     "data": {
      "text/plain": [
       "[0, 1, 4, 9, 16, 25, 36, 49, 64, 81]"
      ]
     },
     "execution_count": 27,
     "metadata": {},
     "output_type": "execute_result"
    }
   ],
   "source": [
    "numbers = [0, 1, 2, 3, 4, 5, 6, 7, 8, 9]\n",
    "\n",
    "numbers_squared = [x**2 for x in numbers]\n",
    "\n",
    "numbers_squared"
   ]
  },
  {
   "cell_type": "markdown",
   "id": "bba27f2f",
   "metadata": {
    "slideshow": {
     "slide_type": "fragment"
    }
   },
   "source": [
    "`[expression for item in collection if condition]`"
   ]
  },
  {
   "cell_type": "code",
   "execution_count": 28,
   "id": "127352b0",
   "metadata": {},
   "outputs": [
    {
     "data": {
      "text/plain": [
       "[0, 3, 6, 9, 12]"
      ]
     },
     "execution_count": 28,
     "metadata": {},
     "output_type": "execute_result"
    }
   ],
   "source": [
    "[y * 3 for y in numbers if y < 5]"
   ]
  },
  {
   "cell_type": "markdown",
   "id": "85d4d0f4",
   "metadata": {
    "slideshow": {
     "slide_type": "fragment"
    }
   },
   "source": [
    "<div class=\"alert alert-warning\">!!! I recommend avoiding these except in the simplest cases as they can become hard to read.</div>"
   ]
  },
  {
   "cell_type": "markdown",
   "id": "ddc09772",
   "metadata": {
    "slideshow": {
     "slide_type": "slide"
    }
   },
   "source": [
    "# Exercise\n",
    "\n",
    "<div class=\"alert alert-info\">\n",
    "    Use a list comprehension to get all numbers in the range 2 to 7 from the specified list.\n",
    "</div>"
   ]
  },
  {
   "cell_type": "code",
   "execution_count": 29,
   "id": "dee80a16",
   "metadata": {},
   "outputs": [],
   "source": [
    "numbers = [-2, -1, 0, 1, 2, 3, 4, 5, 6, 7, 8, 9]\n",
    "\n",
    "# num2to7 = [...]\n",
    "\n",
    "# num2to7"
   ]
  },
  {
   "cell_type": "markdown",
   "id": "e87187c5",
   "metadata": {
    "slideshow": {
     "slide_type": "slide"
    }
   },
   "source": [
    "# Exercise Key\n",
    "\n",
    "<div class=\"alert alert-info\">\n",
    "    Use a list comprehension to get all numbers in the range 2 to 7 from the specified list.\n",
    "</div>"
   ]
  },
  {
   "cell_type": "code",
   "execution_count": 30,
   "id": "6c384f32",
   "metadata": {},
   "outputs": [
    {
     "data": {
      "text/plain": [
       "[2, 3, 4, 5, 6, 7]"
      ]
     },
     "execution_count": 30,
     "metadata": {},
     "output_type": "execute_result"
    }
   ],
   "source": [
    "numbers = [-2, -1, 0, 1, 2, 3, 4, 5, 6, 7, 8, 9]\n",
    "\n",
    "num2to7 = [x for x in numbers if x >= 2 and x <= 7]\n",
    "\n",
    "num2to7"
   ]
  },
  {
   "cell_type": "markdown",
   "id": "924fd7b5",
   "metadata": {
    "cell_style": "center",
    "slideshow": {
     "slide_type": "slide"
    }
   },
   "source": [
    "### Learning goals - *Lists*\n",
    "\n",
    "|  |  |  |\n",
    "|--|--|--|\n",
    "| <img src=\"images/thinking-icon.png\"> | <div class=\"alert alert-info\">You will be able to work with lists of items.</div> | `[1, 2, \"hi\"]` |\n",
    "| <img src=\"images/thinking-icon.png\"> | <div class=\"alert alert-info\">You will be able to index/slice into a list.</div> | `list[start:stop:step]` |\n",
    "| <img src=\"images/thinking-icon.png\"> | <div class=\"alert alert-info\">You will be able to use simple list comprehensions.</div> | `[x**2 for x in values]` |"
   ]
  },
  {
   "cell_type": "markdown",
   "id": "f2289693",
   "metadata": {
    "slideshow": {
     "slide_type": "slide"
    }
   },
   "source": [
    "# Dictionaries\n",
    "\n",
    "- Lists\n",
    "- *Dictionaries*\n",
    "- Iterating lists and dictionaries\n",
    "- Assignment vs. mutation\n",
    "- Functions"
   ]
  },
  {
   "cell_type": "markdown",
   "id": "47e8b511",
   "metadata": {
    "cell_style": "center",
    "slideshow": {
     "slide_type": "slide"
    }
   },
   "source": [
    "### Learning goals - *Dictionaries*\n",
    "\n",
    "|  |  |  |\n",
    "|--|--|--|\n",
    "| <img src=\"images/thinking-icon.png\"> | <div class=\"alert alert-info\">You will be able to work with a dictionary of (key, value) pairs.</div> | `{key: value}` |\n",
    "| <img src=\"images/thinking-icon.png\"> | <div class=\"alert alert-info\">You will be able to index into a dictionary.</div> | `dict[key]` |"
   ]
  },
  {
   "cell_type": "markdown",
   "id": "8832ae9c",
   "metadata": {
    "slideshow": {
     "slide_type": "slide"
    }
   },
   "source": [
    "A dictionary is a collection of (key, value) pairs."
   ]
  },
  {
   "cell_type": "code",
   "execution_count": 31,
   "id": "9a984508",
   "metadata": {},
   "outputs": [
    {
     "data": {
      "text/plain": [
       "{'cell-type': 'neuron',\n",
       " 'region': 'CA1',\n",
       " 'Fos-expression': 0.62,\n",
       " 'number of cells': 89}"
      ]
     },
     "execution_count": 31,
     "metadata": {},
     "output_type": "execute_result"
    }
   ],
   "source": [
    "params = {\n",
    "    \"cell-type\": \"neuron\", \n",
    "    \"region\": \"CA1\", \n",
    "    \"Fos-expression\": 0.62,\n",
    "    \"number of cells\": 89\n",
    "    }\n",
    "\n",
    "params"
   ]
  },
  {
   "cell_type": "markdown",
   "id": "8c9e23ee",
   "metadata": {
    "slideshow": {
     "slide_type": "fragment"
    }
   },
   "source": [
    "Values are indexed via their keys."
   ]
  },
  {
   "cell_type": "code",
   "execution_count": 32,
   "id": "45185de9",
   "metadata": {},
   "outputs": [
    {
     "data": {
      "text/plain": [
       "'CA1'"
      ]
     },
     "execution_count": 32,
     "metadata": {},
     "output_type": "execute_result"
    }
   ],
   "source": [
    "params[\"region\"]"
   ]
  },
  {
   "cell_type": "markdown",
   "id": "d96153dc",
   "metadata": {
    "slideshow": {
     "slide_type": "slide"
    }
   },
   "source": [
    "Keys can be anything."
   ]
  },
  {
   "cell_type": "code",
   "execution_count": 33,
   "id": "49ebf8cd",
   "metadata": {},
   "outputs": [
    {
     "data": {
      "text/plain": [
       "{'cell-type': 'neuron',\n",
       " 'region': 'CA1',\n",
       " 'Fos-expression': 0.62,\n",
       " 'number of cells': 89,\n",
       " 100.5: [87, True]}"
      ]
     },
     "execution_count": 33,
     "metadata": {},
     "output_type": "execute_result"
    }
   ],
   "source": [
    "params[100.5] = [87, True]\n",
    "\n",
    "params"
   ]
  },
  {
   "cell_type": "markdown",
   "id": "0db0cb0f",
   "metadata": {
    "slideshow": {
     "slide_type": "slide"
    }
   },
   "source": [
    "Values can be edited/deleted via their keys."
   ]
  },
  {
   "cell_type": "code",
   "execution_count": 34,
   "id": "db013f73",
   "metadata": {},
   "outputs": [
    {
     "data": {
      "text/plain": [
       "{'cell-type': 'neuron',\n",
       " 'region': 'CA1',\n",
       " 'Fos-expression': 0.62,\n",
       " 'number of cells': 89,\n",
       " 100.5: [87, True]}"
      ]
     },
     "execution_count": 34,
     "metadata": {},
     "output_type": "execute_result"
    }
   ],
   "source": [
    "params"
   ]
  },
  {
   "cell_type": "code",
   "execution_count": 35,
   "id": "b36dd1f8",
   "metadata": {
    "slideshow": {
     "slide_type": "-"
    }
   },
   "outputs": [
    {
     "data": {
      "text/plain": [
       "{'cell-type': 'neuron',\n",
       " 'region': 'cortex',\n",
       " 'Fos-expression': 0.62,\n",
       " 'number of cells': 89}"
      ]
     },
     "execution_count": 35,
     "metadata": {},
     "output_type": "execute_result"
    }
   ],
   "source": [
    "params[\"region\"] = \"cortex\"\n",
    "\n",
    "del params[100.5]\n",
    "\n",
    "params"
   ]
  },
  {
   "cell_type": "markdown",
   "id": "daaeee6d",
   "metadata": {
    "slideshow": {
     "slide_type": "slide"
    }
   },
   "source": [
    "# Exercise\n",
    "\n",
    "<div class=\"alert alert-info\">\n",
    "    Edit the specified parameters dictionary as indicated.\n",
    "</div>"
   ]
  },
  {
   "cell_type": "code",
   "execution_count": 36,
   "id": "5b1098ba",
   "metadata": {},
   "outputs": [],
   "source": [
    "params = {\n",
    "    \"cell-type\": \"neuron\", \n",
    "    \"region\": \"CA1\", \n",
    "    \"Fos-expression\": 0.62,\n",
    "    \"number of cells\": 89\n",
    "    }\n",
    "\n",
    "# 1. Change the cell type to 'interneurons'.\n",
    "\n",
    "# 2. Add a new parameter for the number of subjects used in the study (e.g., 12).\n"
   ]
  },
  {
   "cell_type": "markdown",
   "id": "0dc6a9b7",
   "metadata": {
    "slideshow": {
     "slide_type": "slide"
    }
   },
   "source": [
    "# Exercise Key\n",
    "\n",
    "<div class=\"alert alert-info\">\n",
    "    Edit the specified parameters dictionary as indicated.\n",
    "</div>"
   ]
  },
  {
   "cell_type": "code",
   "execution_count": 37,
   "id": "ca877c05",
   "metadata": {},
   "outputs": [
    {
     "data": {
      "text/plain": [
       "{'cell-type': 'interneurons',\n",
       " 'region': 'CA1',\n",
       " 'Fos-expression': 0.62,\n",
       " 'number of cells': 89,\n",
       " 'num_subjects': 12}"
      ]
     },
     "execution_count": 37,
     "metadata": {},
     "output_type": "execute_result"
    }
   ],
   "source": [
    "params = {\n",
    "    \"cell-type\": \"neuron\", \n",
    "    \"region\": \"CA1\", \n",
    "    \"Fos-expression\": 0.62,\n",
    "    \"number of cells\": 89\n",
    "    }\n",
    "\n",
    "# 1. Change the cell type to 'interneurons'.\n",
    "params[\"cell-type\"] = \"interneurons\"\n",
    "\n",
    "# 2. Add a new parameter for the number of subjects used in the study (e.g., 12).\n",
    "params[\"num_subjects\"] = 12\n",
    "\n",
    "params"
   ]
  },
  {
   "cell_type": "markdown",
   "id": "fa19fc5c",
   "metadata": {
    "cell_style": "center",
    "slideshow": {
     "slide_type": "slide"
    }
   },
   "source": [
    "### Learning goals - *Dictionaries*\n",
    "\n",
    "|  |  |  |\n",
    "|--|--|--|\n",
    "| <img src=\"images/thinking-icon.png\"> | <div class=\"alert alert-info\">You will be able to work with a dictionary of (key, value) pairs.</div> | `{key: value}` |\n",
    "| <img src=\"images/thinking-icon.png\"> | <div class=\"alert alert-info\">You will be able to index into a dictionary.</div> | `dict[key]` |"
   ]
  },
  {
   "cell_type": "markdown",
   "id": "5984fcd2",
   "metadata": {
    "slideshow": {
     "slide_type": "slide"
    }
   },
   "source": [
    "# Iterating lists and dictionaries\n",
    "\n",
    "- Lists\n",
    "- Dictionaries\n",
    "- *Iterating lists and dictionaries*\n",
    "- Assignment vs. mutation\n",
    "- Functions"
   ]
  },
  {
   "cell_type": "markdown",
   "id": "db215c43",
   "metadata": {
    "cell_style": "center",
    "slideshow": {
     "slide_type": "slide"
    }
   },
   "source": [
    "### Learning goals - *Iterating lists and dictionaries*\n",
    "\n",
    "|  |  |  |\n",
    "|--|--|--|\n",
    "| <img src=\"images/thinking-icon.png\"> | <div class=\"alert alert-info\">You will be able to iterate over collections of items.</div> | `for, while, range` |"
   ]
  },
  {
   "cell_type": "markdown",
   "id": "532fa755",
   "metadata": {
    "slideshow": {
     "slide_type": "slide"
    }
   },
   "source": [
    "*for* loop code block"
   ]
  },
  {
   "cell_type": "code",
   "execution_count": 38,
   "id": "74fa5ed0",
   "metadata": {},
   "outputs": [
    {
     "name": "stdout",
     "output_type": "stream",
     "text": [
      "1\n",
      "2\n",
      "3.4\n",
      "hi\n",
      "[5, 6]\n",
      "True\n"
     ]
    }
   ],
   "source": [
    "mylist = [1, 2, 3.4, \"hi\", [5, 6], True]\n",
    "\n",
    "for item in mylist:\n",
    "    print(item)"
   ]
  },
  {
   "cell_type": "markdown",
   "id": "ac2b27e9",
   "metadata": {
    "slideshow": {
     "slide_type": "fragment"
    }
   },
   "source": [
    "You can name the loop variable whatever you want."
   ]
  },
  {
   "cell_type": "code",
   "execution_count": 39,
   "id": "f2db9dce",
   "metadata": {},
   "outputs": [
    {
     "name": "stdout",
     "output_type": "stream",
     "text": [
      "1\n",
      "2\n",
      "3.4\n",
      "hi\n",
      "[5, 6]\n",
      "True\n"
     ]
    }
   ],
   "source": [
    "for x in mylist:\n",
    "    print(x)"
   ]
  },
  {
   "cell_type": "markdown",
   "id": "2a1f1eb9",
   "metadata": {
    "slideshow": {
     "slide_type": "slide"
    }
   },
   "source": [
    "The entire code block is executed for each item."
   ]
  },
  {
   "cell_type": "code",
   "execution_count": 40,
   "id": "f3c1d15f",
   "metadata": {},
   "outputs": [
    {
     "name": "stdout",
     "output_type": "stream",
     "text": [
      "3\n",
      "6\n",
      "10.2\n",
      "bye\n",
      "[5, 6, 5, 6, 5, 6]\n",
      "3\n"
     ]
    }
   ],
   "source": [
    "mylist = [1, 2, 3.4, \"hi\", [5, 6], True]\n",
    "\n",
    "for item in mylist:\n",
    "    if item == \"hi\":\n",
    "        item = \"bye\"\n",
    "    else:\n",
    "        item = item * 3\n",
    "    print(item)"
   ]
  },
  {
   "cell_type": "markdown",
   "id": "825f158e",
   "metadata": {
    "slideshow": {
     "slide_type": "slide"
    }
   },
   "source": [
    "*range* function"
   ]
  },
  {
   "cell_type": "code",
   "execution_count": 41,
   "id": "c1302a8c",
   "metadata": {},
   "outputs": [
    {
     "name": "stdout",
     "output_type": "stream",
     "text": [
      "0\n",
      "1\n",
      "2\n",
      "3\n"
     ]
    }
   ],
   "source": [
    "for i in range(4):\n",
    "    print(i)"
   ]
  },
  {
   "cell_type": "code",
   "execution_count": 42,
   "id": "b77420bf",
   "metadata": {
    "slideshow": {
     "slide_type": "fragment"
    }
   },
   "outputs": [
    {
     "name": "stdout",
     "output_type": "stream",
     "text": [
      "1\n",
      "2\n",
      "3\n"
     ]
    }
   ],
   "source": [
    "for i in range(1, 4):\n",
    "    print(i)"
   ]
  },
  {
   "cell_type": "code",
   "execution_count": 43,
   "id": "ab55e687",
   "metadata": {
    "slideshow": {
     "slide_type": "fragment"
    }
   },
   "outputs": [
    {
     "name": "stdout",
     "output_type": "stream",
     "text": [
      "1\n",
      "3\n"
     ]
    }
   ],
   "source": [
    "for i in range(1, 4, 2):\n",
    "    print(i)"
   ]
  },
  {
   "cell_type": "markdown",
   "id": "304c7d45",
   "metadata": {
    "slideshow": {
     "slide_type": "slide"
    }
   },
   "source": [
    "*help* function"
   ]
  },
  {
   "cell_type": "code",
   "execution_count": 44,
   "id": "338d94e3",
   "metadata": {},
   "outputs": [
    {
     "name": "stdout",
     "output_type": "stream",
     "text": [
      "Help on class range in module builtins:\n",
      "\n",
      "class range(object)\n",
      " |  range(stop) -> range object\n",
      " |  range(start, stop[, step]) -> range object\n",
      " |  \n",
      " |  Return an object that produces a sequence of integers from start (inclusive)\n",
      " |  to stop (exclusive) by step.  range(i, j) produces i, i+1, i+2, ..., j-1.\n",
      " |  start defaults to 0, and stop is omitted!  range(4) produces 0, 1, 2, 3.\n",
      " |  These are exactly the valid indices for a list of 4 elements.\n",
      " |  When step is given, it specifies the increment (or decrement).\n",
      " |  \n",
      " |  Methods defined here:\n",
      " |  \n",
      " |  __bool__(self, /)\n",
      " |      True if self else False\n",
      " |  \n",
      " |  __contains__(self, key, /)\n",
      " |      Return key in self.\n",
      " |  \n",
      " |  __eq__(self, value, /)\n",
      " |      Return self==value.\n",
      " |  \n",
      " |  __ge__(self, value, /)\n",
      " |      Return self>=value.\n",
      " |  \n",
      " |  __getattribute__(self, name, /)\n",
      " |      Return getattr(self, name).\n",
      " |  \n",
      " |  __getitem__(self, key, /)\n",
      " |      Return self[key].\n",
      " |  \n",
      " |  __gt__(self, value, /)\n",
      " |      Return self>value.\n",
      " |  \n",
      " |  __hash__(self, /)\n",
      " |      Return hash(self).\n",
      " |  \n",
      " |  __iter__(self, /)\n",
      " |      Implement iter(self).\n",
      " |  \n",
      " |  __le__(self, value, /)\n",
      " |      Return self<=value.\n",
      " |  \n",
      " |  __len__(self, /)\n",
      " |      Return len(self).\n",
      " |  \n",
      " |  __lt__(self, value, /)\n",
      " |      Return self<value.\n",
      " |  \n",
      " |  __ne__(self, value, /)\n",
      " |      Return self!=value.\n",
      " |  \n",
      " |  __reduce__(...)\n",
      " |      Helper for pickle.\n",
      " |  \n",
      " |  __repr__(self, /)\n",
      " |      Return repr(self).\n",
      " |  \n",
      " |  __reversed__(...)\n",
      " |      Return a reverse iterator.\n",
      " |  \n",
      " |  count(...)\n",
      " |      rangeobject.count(value) -> integer -- return number of occurrences of value\n",
      " |  \n",
      " |  index(...)\n",
      " |      rangeobject.index(value) -> integer -- return index of value.\n",
      " |      Raise ValueError if the value is not present.\n",
      " |  \n",
      " |  ----------------------------------------------------------------------\n",
      " |  Static methods defined here:\n",
      " |  \n",
      " |  __new__(*args, **kwargs) from builtins.type\n",
      " |      Create and return a new object.  See help(type) for accurate signature.\n",
      " |  \n",
      " |  ----------------------------------------------------------------------\n",
      " |  Data descriptors defined here:\n",
      " |  \n",
      " |  start\n",
      " |  \n",
      " |  step\n",
      " |  \n",
      " |  stop\n",
      "\n"
     ]
    }
   ],
   "source": [
    "help(range)"
   ]
  },
  {
   "cell_type": "markdown",
   "id": "f9ea131b",
   "metadata": {
    "slideshow": {
     "slide_type": "slide"
    }
   },
   "source": [
    "Iterate over indexes."
   ]
  },
  {
   "cell_type": "code",
   "execution_count": 45,
   "id": "ea474ff8",
   "metadata": {},
   "outputs": [
    {
     "name": "stdout",
     "output_type": "stream",
     "text": [
      "0 1\n",
      "1 2\n",
      "2 3.4\n",
      "3 hi\n",
      "4 [5, 6]\n",
      "5 True\n"
     ]
    }
   ],
   "source": [
    "mylist = [1, 2, 3.4, \"hi\", [5, 6], True]\n",
    "\n",
    "N = len(mylist)\n",
    "\n",
    "for i in range(N):\n",
    "    print(i, mylist[i])"
   ]
  },
  {
   "cell_type": "code",
   "execution_count": 46,
   "id": "e16a99dc",
   "metadata": {
    "slideshow": {
     "slide_type": "fragment"
    }
   },
   "outputs": [
    {
     "name": "stdout",
     "output_type": "stream",
     "text": [
      "0 1\n",
      "1 2\n",
      "2 3.4\n",
      "3 hi\n",
      "4 [5, 6]\n",
      "5 True\n"
     ]
    }
   ],
   "source": [
    "for i, val in enumerate(mylist):\n",
    "    print(i, val)"
   ]
  },
  {
   "cell_type": "markdown",
   "id": "91bdadd5",
   "metadata": {
    "slideshow": {
     "slide_type": "slide"
    }
   },
   "source": [
    "*break* and *continue*"
   ]
  },
  {
   "cell_type": "code",
   "execution_count": 47,
   "id": "4d6388c9",
   "metadata": {},
   "outputs": [
    {
     "name": "stdout",
     "output_type": "stream",
     "text": [
      "0\n",
      "1\n",
      "2\n",
      "4\n",
      "5\n",
      "6\n"
     ]
    }
   ],
   "source": [
    "for i in range(10):\n",
    "    if i == 3:\n",
    "        continue  # skip to next loop iteration\n",
    "    if i == 7:\n",
    "        break  # exit the loop\n",
    "    print(i)"
   ]
  },
  {
   "cell_type": "markdown",
   "id": "1b90734d",
   "metadata": {
    "slideshow": {
     "slide_type": "slide"
    }
   },
   "source": [
    "*while* loop code block"
   ]
  },
  {
   "cell_type": "code",
   "execution_count": 48,
   "id": "b084adcc",
   "metadata": {},
   "outputs": [
    {
     "name": "stdout",
     "output_type": "stream",
     "text": [
      "0\n",
      "1\n",
      "2\n",
      "3\n",
      "4\n"
     ]
    }
   ],
   "source": [
    "i = 0\n",
    "while i < 5:\n",
    "    print(i)\n",
    "    i += 1"
   ]
  },
  {
   "cell_type": "markdown",
   "id": "0003a6f1",
   "metadata": {
    "slideshow": {
     "slide_type": "slide"
    }
   },
   "source": [
    "**Stuck in an infinite loop?** *Stop the kernel.*"
   ]
  },
  {
   "cell_type": "code",
   "execution_count": 49,
   "id": "fa1588fb",
   "metadata": {},
   "outputs": [
    {
     "ename": "KeyboardInterrupt",
     "evalue": "",
     "output_type": "error",
     "traceback": [
      "\u001b[0;31m---------------------------------------------------------------------------\u001b[0m",
      "\u001b[0;31mKeyboardInterrupt\u001b[0m                         Traceback (most recent call last)",
      "Cell \u001b[0;32mIn[49], line 2\u001b[0m\n\u001b[1;32m      1\u001b[0m i \u001b[38;5;241m=\u001b[39m \u001b[38;5;241m0\u001b[39m\n\u001b[0;32m----> 2\u001b[0m \u001b[38;5;28;01mwhile\u001b[39;00m i \u001b[38;5;241m<\u001b[39m \u001b[38;5;241m5\u001b[39m:\n\u001b[1;32m      3\u001b[0m     j \u001b[38;5;241m=\u001b[39m i\u001b[38;5;241m*\u001b[39m\u001b[38;5;241m*\u001b[39m\u001b[38;5;241m2\u001b[39m\n\u001b[1;32m      4\u001b[0m     \u001b[38;5;66;03m# oops, forgot to increment i!\u001b[39;00m\n",
      "\u001b[0;31mKeyboardInterrupt\u001b[0m: "
     ]
    }
   ],
   "source": [
    "i = 0\n",
    "while i < 5:\n",
    "    j = i**2\n",
    "    # oops, forgot to increment i!"
   ]
  },
  {
   "cell_type": "markdown",
   "id": "d27f3525",
   "metadata": {
    "slideshow": {
     "slide_type": "slide"
    }
   },
   "source": [
    "Iterating over the keys in a dictionary."
   ]
  },
  {
   "cell_type": "code",
   "execution_count": 50,
   "id": "c2816430",
   "metadata": {},
   "outputs": [
    {
     "name": "stdout",
     "output_type": "stream",
     "text": [
      "cell-type = neuron\n",
      "region = CA1\n",
      "Fos-expression = 0.62\n",
      "number of cells = 89\n"
     ]
    }
   ],
   "source": [
    "params = {\n",
    "    \"cell-type\": \"neuron\", \n",
    "    \"region\": \"CA1\", \n",
    "    \"Fos-expression\": 0.62,\n",
    "    \"number of cells\": 89\n",
    "    }\n",
    "\n",
    "for key in params:\n",
    "    print(key, \"=\", params[key])"
   ]
  },
  {
   "cell_type": "markdown",
   "id": "23becfea",
   "metadata": {
    "cell_style": "center",
    "slideshow": {
     "slide_type": "slide"
    }
   },
   "source": [
    "### Learning goals - *Iterating lists and dictionaries*\n",
    "\n",
    "|  |  |  |\n",
    "|--|--|--|\n",
    "| <img src=\"images/thinking-icon.png\"> | <div class=\"alert alert-info\">You will be able to iterate over collections of items.</div> | `for, while, range` |"
   ]
  },
  {
   "cell_type": "markdown",
   "id": "026c8161",
   "metadata": {
    "slideshow": {
     "slide_type": "slide"
    }
   },
   "source": [
    "# Assignment vs. mutation\n",
    "\n",
    "- Lists\n",
    "- Dictionaries\n",
    "- Iterating lists and dictionaries\n",
    "- *Assignment vs. mutation*\n",
    "- Functions"
   ]
  },
  {
   "cell_type": "markdown",
   "id": "6dc4aa8d",
   "metadata": {
    "cell_style": "center",
    "slideshow": {
     "slide_type": "slide"
    }
   },
   "source": [
    "### Learning goals - *Assignment vs. mutation*\n",
    "\n",
    "|  |  |  |\n",
    "|--|--|--|\n",
    "| <img src=\"images/thinking-icon.png\"> | <div class=\"alert alert-info\">You will understand what happens when you assign a value to a variable.</div> | `x = 3` |\n",
    "| <img src=\"images/thinking-icon.png\"> | <div class=\"alert alert-info\">You will understand the difference between mutating a value in memory and assigning a new value.</div> | `x[i] = 3` |"
   ]
  },
  {
   "cell_type": "markdown",
   "id": "8598099d",
   "metadata": {
    "slideshow": {
     "slide_type": "slide"
    }
   },
   "source": [
    "Assigning a value to a variable creates a new value in memory."
   ]
  },
  {
   "cell_type": "code",
   "execution_count": 51,
   "id": "c5583113",
   "metadata": {
    "cell_style": "split"
   },
   "outputs": [
    {
     "data": {
      "text/plain": [
       "4313639024"
      ]
     },
     "execution_count": 51,
     "metadata": {},
     "output_type": "execute_result"
    }
   ],
   "source": [
    "a = 3\n",
    "\n",
    "id(a)"
   ]
  },
  {
   "cell_type": "markdown",
   "id": "cba2de12",
   "metadata": {
    "cell_style": "split"
   },
   "source": [
    "<img src=\"images/a-in-mem.drawio.svg\">"
   ]
  },
  {
   "cell_type": "markdown",
   "id": "a9e11e82",
   "metadata": {
    "slideshow": {
     "slide_type": "fragment"
    }
   },
   "source": [
    "Reassigning a new value to a previously defined variable creates a new value in memory.\n",
    "\n",
    "<div class=\"alert alert-warning\">\n",
    "    !!! It does NOT have to overwrite the memory for the previous value that the variable referred to.\n",
    "</div>"
   ]
  },
  {
   "cell_type": "code",
   "execution_count": 52,
   "id": "4f7d99dc",
   "metadata": {
    "cell_style": "split"
   },
   "outputs": [
    {
     "data": {
      "text/plain": [
       "4313639056"
      ]
     },
     "execution_count": 52,
     "metadata": {},
     "output_type": "execute_result"
    }
   ],
   "source": [
    "a = 4\n",
    "\n",
    "id(a)"
   ]
  },
  {
   "cell_type": "markdown",
   "id": "f1165bc0",
   "metadata": {
    "cell_style": "split"
   },
   "source": [
    "<img src=\"images/a-reassigned-in-mem.drawio.svg\">"
   ]
  },
  {
   "cell_type": "markdown",
   "id": "e0653197",
   "metadata": {
    "slideshow": {
     "slide_type": "slide"
    }
   },
   "source": [
    "Multiple variables can refer to the same value in memory."
   ]
  },
  {
   "cell_type": "code",
   "execution_count": 53,
   "id": "f002db57",
   "metadata": {
    "cell_style": "split"
   },
   "outputs": [
    {
     "data": {
      "text/plain": [
       "True"
      ]
     },
     "execution_count": 53,
     "metadata": {},
     "output_type": "execute_result"
    }
   ],
   "source": [
    "a = 3\n",
    "b = a\n",
    "\n",
    "id(a) == id(b)"
   ]
  },
  {
   "cell_type": "markdown",
   "id": "80af0656",
   "metadata": {
    "cell_style": "split"
   },
   "source": [
    "<img src=\"images/ab-in-mem.drawio.svg\">"
   ]
  },
  {
   "cell_type": "markdown",
   "id": "dc374b8a",
   "metadata": {
    "slideshow": {
     "slide_type": "fragment"
    }
   },
   "source": [
    "<div class=\"alert alert-warning\">\n",
    "    !!! Reassigning a variable has NO EFFECT on other variables even if they previously referred to the same memory location.\n",
    "</div>"
   ]
  },
  {
   "cell_type": "code",
   "execution_count": 54,
   "id": "1166cd1b",
   "metadata": {
    "cell_style": "split"
   },
   "outputs": [
    {
     "data": {
      "text/plain": [
       "(3, False)"
      ]
     },
     "execution_count": 54,
     "metadata": {},
     "output_type": "execute_result"
    }
   ],
   "source": [
    "b = 2\n",
    "\n",
    "a, id(a) ==  id(b)"
   ]
  },
  {
   "cell_type": "markdown",
   "id": "783155db",
   "metadata": {
    "cell_style": "split"
   },
   "source": [
    "<img src=\"images/a-b-in-mem.drawio.svg\">"
   ]
  },
  {
   "cell_type": "markdown",
   "id": "c5d1c340",
   "metadata": {
    "slideshow": {
     "slide_type": "slide"
    }
   },
   "source": [
    "Assigning a value to a variable creates a new value in memory."
   ]
  },
  {
   "cell_type": "code",
   "execution_count": 55,
   "id": "0932590f",
   "metadata": {
    "cell_style": "split"
   },
   "outputs": [
    {
     "data": {
      "text/plain": [
       "4372598784"
      ]
     },
     "execution_count": 55,
     "metadata": {},
     "output_type": "execute_result"
    }
   ],
   "source": [
    "a = [1, 2, 3]\n",
    "\n",
    "id(a)"
   ]
  },
  {
   "cell_type": "markdown",
   "id": "b276577d",
   "metadata": {
    "cell_style": "split"
   },
   "source": [
    "<img src=\"images/alist-in-mem.drawio.svg\">"
   ]
  },
  {
   "cell_type": "markdown",
   "id": "255adf7a",
   "metadata": {
    "slideshow": {
     "slide_type": "fragment"
    }
   },
   "source": [
    "Reassigning a new value to a previously defined variable creates a new value in memory.\n",
    "\n",
    "<div class=\"alert alert-warning\">\n",
    "    !!! It does NOT have to overwrite the memory for the previous value that the variable referred to.\n",
    "</div>"
   ]
  },
  {
   "cell_type": "code",
   "execution_count": 56,
   "id": "2aea3ba2",
   "metadata": {
    "cell_style": "split"
   },
   "outputs": [
    {
     "data": {
      "text/plain": [
       "4372615232"
      ]
     },
     "execution_count": 56,
     "metadata": {},
     "output_type": "execute_result"
    }
   ],
   "source": [
    "a = [1, 8, 3]\n",
    "\n",
    "id(a)"
   ]
  },
  {
   "cell_type": "markdown",
   "id": "758dace2",
   "metadata": {
    "cell_style": "split"
   },
   "source": [
    "<img src=\"images/alist-reassigned-in-mem.drawio.svg\">"
   ]
  },
  {
   "cell_type": "markdown",
   "id": "522349bd",
   "metadata": {
    "slideshow": {
     "slide_type": "slide"
    }
   },
   "source": [
    "Let's start by assigning a simple list."
   ]
  },
  {
   "cell_type": "code",
   "execution_count": 57,
   "id": "00696ad5",
   "metadata": {
    "cell_style": "split"
   },
   "outputs": [
    {
     "data": {
      "text/plain": [
       "4367511424"
      ]
     },
     "execution_count": 57,
     "metadata": {},
     "output_type": "execute_result"
    }
   ],
   "source": [
    "a = [1, 2, 3]\n",
    "\n",
    "id(a)"
   ]
  },
  {
   "cell_type": "markdown",
   "id": "88ec9e2a",
   "metadata": {
    "cell_style": "split"
   },
   "source": [
    "<img src=\"images/alist-in-mem.drawio.svg\">"
   ]
  },
  {
   "cell_type": "markdown",
   "id": "d05c30d1",
   "metadata": {
    "slideshow": {
     "slide_type": "fragment"
    }
   },
   "source": [
    "<div class=\"alert alert-warning\">\n",
    "    !!! Mutating a variable changes the value in the current memory location.\n",
    "</div>"
   ]
  },
  {
   "cell_type": "code",
   "execution_count": 58,
   "id": "e4b3f3ee",
   "metadata": {
    "cell_style": "split"
   },
   "outputs": [
    {
     "data": {
      "text/plain": [
       "4367511424"
      ]
     },
     "execution_count": 58,
     "metadata": {},
     "output_type": "execute_result"
    }
   ],
   "source": [
    "a[1] = 8\n",
    "\n",
    "id(a)"
   ]
  },
  {
   "cell_type": "markdown",
   "id": "a99aa61a",
   "metadata": {
    "cell_style": "split"
   },
   "source": [
    "<img src=\"images/alist-mutated-in-mem.drawio.svg\">"
   ]
  },
  {
   "cell_type": "markdown",
   "id": "9c14509c",
   "metadata": {
    "slideshow": {
     "slide_type": "slide"
    }
   },
   "source": [
    "Multiple variables can refer to the same value in memory."
   ]
  },
  {
   "cell_type": "code",
   "execution_count": 59,
   "id": "689f5b04",
   "metadata": {
    "cell_style": "split"
   },
   "outputs": [
    {
     "data": {
      "text/plain": [
       "True"
      ]
     },
     "execution_count": 59,
     "metadata": {},
     "output_type": "execute_result"
    }
   ],
   "source": [
    "a = [1, 2, 3]\n",
    "b = a\n",
    "\n",
    "id(a) == id(b)"
   ]
  },
  {
   "cell_type": "markdown",
   "id": "653d20e6",
   "metadata": {
    "cell_style": "split"
   },
   "source": [
    "<img src=\"images/ablist-in-mem.drawio.svg\">"
   ]
  },
  {
   "cell_type": "markdown",
   "id": "98ef6770",
   "metadata": {
    "slideshow": {
     "slide_type": "fragment"
    }
   },
   "source": [
    "<div class=\"alert alert-warning\">\n",
    "    !!! Mutating a variable changes ALL VARIABLES that refer to the same value in memory.\n",
    "</div>"
   ]
  },
  {
   "cell_type": "code",
   "execution_count": 60,
   "id": "817e5227",
   "metadata": {
    "cell_style": "split"
   },
   "outputs": [
    {
     "data": {
      "text/plain": [
       "([1, 8, 3], True)"
      ]
     },
     "execution_count": 60,
     "metadata": {},
     "output_type": "execute_result"
    }
   ],
   "source": [
    "a[1] = 8\n",
    "\n",
    "b, id(a) == id(b)"
   ]
  },
  {
   "cell_type": "markdown",
   "id": "92a75ba6",
   "metadata": {
    "cell_style": "split"
   },
   "source": [
    "<img src=\"images/ablist-mutated-in-mem.drawio.svg\">"
   ]
  },
  {
   "cell_type": "markdown",
   "id": "edf43203",
   "metadata": {
    "slideshow": {
     "slide_type": "slide"
    }
   },
   "source": [
    "Examples of *mutable* vs. *immutable* objects.\n",
    "\n",
    "| Immutable | Mutable |\n",
    "| --- | --- |\n",
    "| Can only be assigned. | Can be assigned and mutated. |\n",
    "| `int` | `list` |\n",
    "| `float` | `dict` |\n",
    "| `bool` | `class` |\n",
    "| `str` | |\n",
    "| `tuple` | |"
   ]
  },
  {
   "cell_type": "markdown",
   "id": "5b7866a1",
   "metadata": {
    "slideshow": {
     "slide_type": "slide"
    }
   },
   "source": [
    "What if you want a *copy* of a mutable object?"
   ]
  },
  {
   "cell_type": "code",
   "execution_count": 61,
   "id": "9337aa24",
   "metadata": {
    "cell_style": "split"
   },
   "outputs": [
    {
     "data": {
      "text/plain": [
       "([1, 2, 3], False)"
      ]
     },
     "execution_count": 61,
     "metadata": {},
     "output_type": "execute_result"
    }
   ],
   "source": [
    "# import the copy module\n",
    "import copy\n",
    "\n",
    "a = [1, 2, 3]\n",
    "\n",
    "# use the 'copy' funtion in the 'copy' module\n",
    "b = copy.copy(a)\n",
    "\n",
    "b, id(a) == id(b)"
   ]
  },
  {
   "cell_type": "markdown",
   "id": "4d8a7a82",
   "metadata": {
    "cell_style": "split"
   },
   "source": [
    "<img src=\"images/alist-blist-in-mem.drawio.svg\">"
   ]
  },
  {
   "cell_type": "markdown",
   "id": "8461cc68",
   "metadata": {
    "slideshow": {
     "slide_type": "fragment"
    }
   },
   "source": [
    "`copy.deepcopy` is needed for recursive copying of nested objects."
   ]
  },
  {
   "cell_type": "code",
   "execution_count": 62,
   "id": "a407796d",
   "metadata": {},
   "outputs": [
    {
     "data": {
      "text/plain": [
       "([[1, 2], [3, 4]], False)"
      ]
     },
     "execution_count": 62,
     "metadata": {},
     "output_type": "execute_result"
    }
   ],
   "source": [
    "a = [[1, 2], [3, 4]]\n",
    "\n",
    "b = copy.deepcopy(a)\n",
    "\n",
    "b, id(a) == id(b)"
   ]
  },
  {
   "cell_type": "markdown",
   "id": "520060b7",
   "metadata": {
    "slideshow": {
     "slide_type": "slide"
    }
   },
   "source": [
    "Nested objects in memory."
   ]
  },
  {
   "cell_type": "code",
   "execution_count": 63,
   "id": "07584f93",
   "metadata": {
    "cell_style": "split"
   },
   "outputs": [],
   "source": [
    "a = [1, [2, 3]]"
   ]
  },
  {
   "cell_type": "markdown",
   "id": "adc978b3",
   "metadata": {
    "cell_style": "split"
   },
   "source": [
    "<img src=\"images/nestedlist-in-mem.drawio.svg\">"
   ]
  },
  {
   "cell_type": "code",
   "execution_count": 64,
   "id": "4abefeec",
   "metadata": {
    "cell_style": "split",
    "slideshow": {
     "slide_type": "fragment"
    }
   },
   "outputs": [],
   "source": [
    "import copy\n",
    "\n",
    "b = copy.copy(a)"
   ]
  },
  {
   "cell_type": "markdown",
   "id": "493da7c3",
   "metadata": {
    "cell_style": "split"
   },
   "source": [
    "<img src=\"images/nestedlist-copy-in-mem.drawio.svg\">"
   ]
  },
  {
   "cell_type": "code",
   "execution_count": 65,
   "id": "c543159a",
   "metadata": {
    "cell_style": "split",
    "slideshow": {
     "slide_type": "fragment"
    }
   },
   "outputs": [],
   "source": [
    "c = copy.deepcopy(a)"
   ]
  },
  {
   "cell_type": "markdown",
   "id": "7e48a3d5",
   "metadata": {
    "cell_style": "split"
   },
   "source": [
    "<img src=\"images/nestedlist-deepcopy-in-mem.drawio.svg\">"
   ]
  },
  {
   "cell_type": "markdown",
   "id": "560786f6",
   "metadata": {
    "slideshow": {
     "slide_type": "slide"
    }
   },
   "source": [
    "### Tuple = Immutable List"
   ]
  },
  {
   "cell_type": "code",
   "execution_count": 66,
   "id": "ef9986a1",
   "metadata": {},
   "outputs": [
    {
     "data": {
      "text/plain": [
       "(list, tuple)"
      ]
     },
     "execution_count": 66,
     "metadata": {},
     "output_type": "execute_result"
    }
   ],
   "source": [
    "mylist = [1, 2, 'hi', True]\n",
    "mytuple = (1, 2, 'hi', True)\n",
    "\n",
    "type(mylist), type(mytuple)"
   ]
  },
  {
   "cell_type": "markdown",
   "id": "6a5dc546",
   "metadata": {
    "slideshow": {
     "slide_type": "fragment"
    }
   },
   "source": [
    "You can read the values in a tuple using the same indexing/slicing as for a list."
   ]
  },
  {
   "cell_type": "code",
   "execution_count": 67,
   "id": "40522b17",
   "metadata": {
    "cell_style": "split"
   },
   "outputs": [
    {
     "data": {
      "text/plain": [
       "2"
      ]
     },
     "execution_count": 67,
     "metadata": {},
     "output_type": "execute_result"
    }
   ],
   "source": [
    "mylist[1]"
   ]
  },
  {
   "cell_type": "code",
   "execution_count": 68,
   "id": "62b7fa18",
   "metadata": {
    "cell_style": "split"
   },
   "outputs": [
    {
     "data": {
      "text/plain": [
       "'hi'"
      ]
     },
     "execution_count": 68,
     "metadata": {},
     "output_type": "execute_result"
    }
   ],
   "source": [
    "mytuple[2]"
   ]
  },
  {
   "cell_type": "markdown",
   "id": "63651df0",
   "metadata": {
    "slideshow": {
     "slide_type": "slide"
    }
   },
   "source": [
    "Unlike a list, you CANNOT CHANGE a tuple."
   ]
  },
  {
   "cell_type": "code",
   "execution_count": 69,
   "id": "40d62666",
   "metadata": {
    "cell_style": "split"
   },
   "outputs": [
    {
     "data": {
      "text/plain": [
       "[1, 100, 'hi', True]"
      ]
     },
     "execution_count": 69,
     "metadata": {},
     "output_type": "execute_result"
    }
   ],
   "source": [
    "mylist[1] = 100\n",
    "mylist"
   ]
  },
  {
   "cell_type": "code",
   "execution_count": 70,
   "id": "761747fc",
   "metadata": {
    "cell_style": "split"
   },
   "outputs": [
    {
     "ename": "TypeError",
     "evalue": "'tuple' object does not support item assignment",
     "output_type": "error",
     "traceback": [
      "\u001b[0;31m---------------------------------------------------------------------------\u001b[0m",
      "\u001b[0;31mTypeError\u001b[0m                                 Traceback (most recent call last)",
      "Cell \u001b[0;32mIn[70], line 1\u001b[0m\n\u001b[0;32m----> 1\u001b[0m \u001b[43mmytuple\u001b[49m\u001b[43m[\u001b[49m\u001b[38;5;241;43m1\u001b[39;49m\u001b[43m]\u001b[49m \u001b[38;5;241m=\u001b[39m \u001b[38;5;241m100\u001b[39m\n",
      "\u001b[0;31mTypeError\u001b[0m: 'tuple' object does not support item assignment"
     ]
    }
   ],
   "source": [
    "mytuple[1] = 100"
   ]
  },
  {
   "cell_type": "markdown",
   "id": "3051bdbe",
   "metadata": {
    "slideshow": {
     "slide_type": "fragment"
    }
   },
   "source": [
    "You can ONLY ASSIGN A COMPLETELY NEW tuple."
   ]
  },
  {
   "cell_type": "code",
   "execution_count": 71,
   "id": "c3910f95",
   "metadata": {},
   "outputs": [],
   "source": [
    "mytuple = (1, 100, 'hi', True)"
   ]
  },
  {
   "cell_type": "markdown",
   "id": "2c468551",
   "metadata": {
    "cell_style": "center",
    "slideshow": {
     "slide_type": "slide"
    }
   },
   "source": [
    "### Learning goals - *Assignment vs. mutation*\n",
    "\n",
    "|  |  |  |\n",
    "|--|--|--|\n",
    "| <img src=\"images/thinking-icon.png\"> | <div class=\"alert alert-info\">You will understand what happens when you assign a value to a variable.</div> | `x = 3` |\n",
    "| <img src=\"images/thinking-icon.png\"> | <div class=\"alert alert-info\">You will understand the difference between mutating a value in memory and assigning a new value.</div> | `x[i] = 3` |"
   ]
  },
  {
   "cell_type": "markdown",
   "id": "d91ee1a9",
   "metadata": {
    "slideshow": {
     "slide_type": "slide"
    }
   },
   "source": [
    "# Functions\n",
    "\n",
    "- Lists\n",
    "- Dictionaries\n",
    "- Iterating lists and dictionaries\n",
    "- Assignment vs. mutation\n",
    "- *Functions*"
   ]
  },
  {
   "cell_type": "markdown",
   "id": "791a1bb7",
   "metadata": {
    "cell_style": "center",
    "slideshow": {
     "slide_type": "slide"
    }
   },
   "source": [
    "### Learning goals - *Functions*\n",
    "\n",
    "|  |  |  |\n",
    "|--|--|--|\n",
    "| <img src=\"images/thinking-icon.png\"> | <div class=\"alert alert-info\">You will be able to write and use your own functions.</div> | `def my_function(args):` |\n",
    "| <img src=\"images/thinking-icon.png\"> | <div class=\"alert alert-info\">You will understand a variable's scope.</div> |  |"
   ]
  },
  {
   "cell_type": "code",
   "execution_count": 72,
   "id": "6e541bf6",
   "metadata": {
    "slideshow": {
     "slide_type": "slide"
    }
   },
   "outputs": [
    {
     "name": "stdout",
     "output_type": "stream",
     "text": [
      "Hi Tim\n"
     ]
    }
   ],
   "source": [
    "def sayHi(name):\n",
    "    message = \"Hi \" + name\n",
    "    print(message)\n",
    "\n",
    "sayHi(\"Tim\")"
   ]
  },
  {
   "cell_type": "code",
   "execution_count": 73,
   "id": "dda27f70",
   "metadata": {
    "slideshow": {
     "slide_type": "fragment"
    }
   },
   "outputs": [
    {
     "name": "stdout",
     "output_type": "stream",
     "text": [
      "Hi Amy\n"
     ]
    }
   ],
   "source": [
    "sayHi(\"Amy\")"
   ]
  },
  {
   "cell_type": "code",
   "execution_count": 74,
   "id": "ed3d7387",
   "metadata": {
    "slideshow": {
     "slide_type": "fragment"
    }
   },
   "outputs": [
    {
     "data": {
      "text/plain": [
       "function"
      ]
     },
     "execution_count": 74,
     "metadata": {},
     "output_type": "execute_result"
    }
   ],
   "source": [
    "type(sayHi)"
   ]
  },
  {
   "cell_type": "markdown",
   "id": "0a34756d",
   "metadata": {
    "slideshow": {
     "slide_type": "slide"
    }
   },
   "source": [
    "The function name is always followed by `()` even if the function does not take any input arguments.\n"
   ]
  },
  {
   "cell_type": "code",
   "execution_count": 75,
   "id": "56ad6ba5",
   "metadata": {},
   "outputs": [
    {
     "name": "stdout",
     "output_type": "stream",
     "text": [
      "Hi\n"
     ]
    }
   ],
   "source": [
    "def sayHi():\n",
    "    print(\"Hi\")\n",
    "\n",
    "sayHi()"
   ]
  },
  {
   "cell_type": "markdown",
   "id": "2b4c7e78",
   "metadata": {
    "slideshow": {
     "slide_type": "slide"
    }
   },
   "source": [
    "### Function *return* values"
   ]
  },
  {
   "cell_type": "code",
   "execution_count": 76,
   "id": "9fe08def",
   "metadata": {},
   "outputs": [
    {
     "data": {
      "text/plain": [
       "7.5"
      ]
     },
     "execution_count": 76,
     "metadata": {},
     "output_type": "execute_result"
    }
   ],
   "source": [
    "def sum(x, y):\n",
    "    return x + y\n",
    "\n",
    "z = sum(3, 4.5)\n",
    "z"
   ]
  },
  {
   "cell_type": "markdown",
   "id": "8022f39f",
   "metadata": {
    "slideshow": {
     "slide_type": "fragment"
    }
   },
   "source": [
    "You can return multiple values."
   ]
  },
  {
   "cell_type": "code",
   "execution_count": 77,
   "id": "09229845",
   "metadata": {},
   "outputs": [
    {
     "data": {
      "text/plain": [
       "(-1, 6)"
      ]
     },
     "execution_count": 77,
     "metadata": {},
     "output_type": "execute_result"
    }
   ],
   "source": [
    "def get_sub_and_prod(x, y):\n",
    "    sub = x - y\n",
    "    prod = x * y\n",
    "    return sub, prod\n",
    "\n",
    "a, b = get_sub_and_prod(2, 3)\n",
    "a, b"
   ]
  },
  {
   "cell_type": "markdown",
   "id": "787617e7",
   "metadata": {
    "slideshow": {
     "slide_type": "slide"
    }
   },
   "source": [
    "# Exercise\n",
    "\n",
    "<div class=\"alert alert-info\">\n",
    "    <p>Write a function that converts a weight in grams to kilograms.</p>\n",
    "    <p>Use your function to convert 300 grams to kilograms.</p>\n",
    "</div>"
   ]
  },
  {
   "cell_type": "code",
   "execution_count": null,
   "id": "269cf9f0",
   "metadata": {},
   "outputs": [],
   "source": []
  },
  {
   "cell_type": "markdown",
   "id": "319ea635",
   "metadata": {
    "slideshow": {
     "slide_type": "slide"
    }
   },
   "source": [
    "# Exercise Key\n",
    "\n",
    "<div class=\"alert alert-info\">\n",
    "    <p>Write a function that converts a weight in grams to kilograms.</p>\n",
    "    <p>Use your function to convert 300 grams to kilograms.</p>\n",
    "</div>"
   ]
  },
  {
   "cell_type": "code",
   "execution_count": 78,
   "id": "7ed60dac",
   "metadata": {},
   "outputs": [
    {
     "name": "stdout",
     "output_type": "stream",
     "text": [
      "300 g = 0.3 kg\n"
     ]
    }
   ],
   "source": [
    "def g_to_kg(g):\n",
    "    return g / 1000\n",
    "\n",
    "print(f\"300 g = {g_to_kg(300)} kg\")"
   ]
  },
  {
   "cell_type": "markdown",
   "id": "751117d3",
   "metadata": {
    "slideshow": {
     "slide_type": "slide"
    }
   },
   "source": [
    "### Function default arguments"
   ]
  },
  {
   "cell_type": "code",
   "execution_count": 79,
   "id": "c85eea84",
   "metadata": {},
   "outputs": [
    {
     "data": {
      "text/plain": [
       "7"
      ]
     },
     "execution_count": 79,
     "metadata": {},
     "output_type": "execute_result"
    }
   ],
   "source": [
    "def add_y_or_2(x, y=2):\n",
    "    return x + y\n",
    "\n",
    "add_y_or_2(3, 4)"
   ]
  },
  {
   "cell_type": "code",
   "execution_count": 80,
   "id": "251a141b",
   "metadata": {},
   "outputs": [
    {
     "data": {
      "text/plain": [
       "5"
      ]
     },
     "execution_count": 80,
     "metadata": {},
     "output_type": "execute_result"
    }
   ],
   "source": [
    "add_y_or_2(3)"
   ]
  },
  {
   "cell_type": "markdown",
   "id": "19d33138",
   "metadata": {
    "slideshow": {
     "slide_type": "slide"
    }
   },
   "source": [
    "### Function named arguments"
   ]
  },
  {
   "cell_type": "code",
   "execution_count": 81,
   "id": "8ac1327e",
   "metadata": {},
   "outputs": [
    {
     "data": {
      "text/plain": [
       "-1"
      ]
     },
     "execution_count": 81,
     "metadata": {},
     "output_type": "execute_result"
    }
   ],
   "source": [
    "def sub(x, y):\n",
    "    return x - y\n",
    "\n",
    "sub(3, 4)"
   ]
  },
  {
   "cell_type": "code",
   "execution_count": 82,
   "id": "6bf2c5bd",
   "metadata": {},
   "outputs": [
    {
     "data": {
      "text/plain": [
       "-1"
      ]
     },
     "execution_count": 82,
     "metadata": {},
     "output_type": "execute_result"
    }
   ],
   "source": [
    "sub(x=3, y=4)"
   ]
  },
  {
   "cell_type": "code",
   "execution_count": 83,
   "id": "6de0afa5",
   "metadata": {},
   "outputs": [
    {
     "data": {
      "text/plain": [
       "-1"
      ]
     },
     "execution_count": 83,
     "metadata": {},
     "output_type": "execute_result"
    }
   ],
   "source": [
    "sub(y=4, x=3)"
   ]
  },
  {
   "cell_type": "markdown",
   "id": "cd200865",
   "metadata": {
    "slideshow": {
     "slide_type": "slide"
    }
   },
   "source": [
    "### Variable scope\n",
    "\n",
    "<div class=\"alert alert-info\">\n",
    "Variables defined at notebook level can be accessed from anywhere in the notebook including inside of all functions.\n",
    "</div>"
   ]
  },
  {
   "cell_type": "code",
   "execution_count": 84,
   "id": "4062cede",
   "metadata": {},
   "outputs": [
    {
     "name": "stdout",
     "output_type": "stream",
     "text": [
      "3\n"
     ]
    }
   ],
   "source": [
    "x = 3\n",
    "\n",
    "print(x)"
   ]
  },
  {
   "cell_type": "code",
   "execution_count": 85,
   "id": "39ab5ef1",
   "metadata": {},
   "outputs": [],
   "source": [
    "def what_is_x():\n",
    "    print(x)"
   ]
  },
  {
   "cell_type": "code",
   "execution_count": 86,
   "id": "27c79baa",
   "metadata": {},
   "outputs": [
    {
     "name": "stdout",
     "output_type": "stream",
     "text": [
      "3\n"
     ]
    }
   ],
   "source": [
    "what_is_x()"
   ]
  },
  {
   "cell_type": "markdown",
   "id": "52f82e07",
   "metadata": {
    "slideshow": {
     "slide_type": "slide"
    }
   },
   "source": [
    "### Local scope within a function\n",
    "\n",
    "<div class=\"alert alert-info\">\n",
    "Variables defined within a function only exist within the function.\n",
    "</div>"
   ]
  },
  {
   "cell_type": "code",
   "execution_count": 87,
   "id": "0e70ccef",
   "metadata": {},
   "outputs": [
    {
     "name": "stdout",
     "output_type": "stream",
     "text": [
      "2\n"
     ]
    }
   ],
   "source": [
    "x = 3\n",
    "\n",
    "def setx():\n",
    "    x = 2\n",
    "    print(x)\n",
    "\n",
    "setx()"
   ]
  },
  {
   "cell_type": "markdown",
   "id": "62edd664",
   "metadata": {},
   "source": [
    "What value does `x` have now?"
   ]
  },
  {
   "cell_type": "code",
   "execution_count": 88,
   "id": "ea6f99b2",
   "metadata": {
    "slideshow": {
     "slide_type": "fragment"
    }
   },
   "outputs": [
    {
     "data": {
      "text/plain": [
       "3"
      ]
     },
     "execution_count": 88,
     "metadata": {},
     "output_type": "execute_result"
    }
   ],
   "source": [
    "x"
   ]
  },
  {
   "cell_type": "markdown",
   "id": "905e2b31",
   "metadata": {
    "slideshow": {
     "slide_type": "slide"
    }
   },
   "source": [
    "<div class=\"alert alert-warning\">\n",
    "    !!! Reassigning an input to a new local value does NOT affect the global input variable.\n",
    "</div>"
   ]
  },
  {
   "cell_type": "code",
   "execution_count": 89,
   "id": "dfe9575a",
   "metadata": {},
   "outputs": [
    {
     "name": "stdout",
     "output_type": "stream",
     "text": [
      "local: 1\n",
      "global: 3\n"
     ]
    }
   ],
   "source": [
    "x = 3\n",
    "\n",
    "def changex(x):\n",
    "    # Reassigning input `x` to new local value\n",
    "    # does NOT affect global `x`\n",
    "    x = x - 2\n",
    "    print(\"local:\", x)\n",
    "\n",
    "changex(x)\n",
    "\n",
    "print(\"global:\", x)"
   ]
  },
  {
   "cell_type": "markdown",
   "id": "fff5aa8f",
   "metadata": {
    "slideshow": {
     "slide_type": "slide"
    }
   },
   "source": [
    "<div class=\"alert alert-warning\">\n",
    "    !!! Mutating an input changes the global input variable.\n",
    "</div>"
   ]
  },
  {
   "cell_type": "code",
   "execution_count": 90,
   "id": "faa6da94",
   "metadata": {
    "slideshow": {
     "slide_type": "-"
    }
   },
   "outputs": [
    {
     "name": "stdout",
     "output_type": "stream",
     "text": [
      "local: [1, 8, 3]\n",
      "global: [1, 8, 3]\n"
     ]
    }
   ],
   "source": [
    "x = [1, 2, 3]\n",
    "\n",
    "def changex(x):\n",
    "    # Mutating input `x` changes global `x`\n",
    "    x[1] = 8\n",
    "    print(\"local:\", x)\n",
    "\n",
    "changex(x)\n",
    "\n",
    "print(\"global:\", x)"
   ]
  },
  {
   "cell_type": "markdown",
   "id": "5ff1eca3",
   "metadata": {
    "cell_style": "center",
    "slideshow": {
     "slide_type": "slide"
    }
   },
   "source": [
    "### Learning goals - *Functions*\n",
    "\n",
    "|  |  |  |\n",
    "|--|--|--|\n",
    "| <img src=\"images/thinking-icon.png\"> | <div class=\"alert alert-info\">You will be able to write and use your own functions.</div> | `def my_function(args):` |\n",
    "| <img src=\"images/thinking-icon.png\"> | <div class=\"alert alert-info\">You will understand a variable's scope.</div> |  |"
   ]
  }
 ],
 "metadata": {
  "celltoolbar": "Slideshow",
  "kernelspec": {
   "display_name": "Python 3 (ipykernel)",
   "language": "python",
   "name": "python3"
  },
  "language_info": {
   "codemirror_mode": {
    "name": "ipython",
    "version": 3
   },
   "file_extension": ".py",
   "mimetype": "text/x-python",
   "name": "python",
   "nbconvert_exporter": "python",
   "pygments_lexer": "ipython3",
   "version": "3.11.0"
  },
  "rise": {
   "enable_chalkboard": true,
   "scroll": true,
   "theme": "white"
  },
  "vscode": {
   "interpreter": {
    "hash": "7b6fce1537a0f61b09a1c0f374c9c73e53e0122f3da97a6f70c30069bc6a1f20"
   }
  }
 },
 "nbformat": 4,
 "nbformat_minor": 5
}
