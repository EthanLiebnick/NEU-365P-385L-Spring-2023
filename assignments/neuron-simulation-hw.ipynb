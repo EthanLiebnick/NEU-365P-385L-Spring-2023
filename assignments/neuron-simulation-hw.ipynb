{
 "cells": [
  {
   "attachments": {},
   "cell_type": "markdown",
   "id": "da9bf46b-f07e-4625-9f0a-7035f2cb2526",
   "metadata": {
    "tags": []
   },
   "source": [
    "# Homework - Neuron simulation (12 pts)"
   ]
  },
  {
   "cell_type": "markdown",
   "id": "5ff1ce62",
   "metadata": {},
   "source": [
    "---\n",
    "### Collaborators\n",
    "You MUST include a bulleted list with the full names of everyone you collaborated with on this assignment.\n",
    "- Jane Doe\n",
    "- John Doe"
   ]
  },
  {
   "attachments": {},
   "cell_type": "markdown",
   "id": "bf62443d",
   "metadata": {},
   "source": [
    "---\n",
    "1. (3 pts) Consider a simulation period of 400 ms with a sample interval of 0.1 ms. For each time step simulate the number of poisson distributed spikes from each of 500 neurons where the neuron's average spike rates are uniformly distributed between 5 and 20 Hz. Your result should be a matrix with as many rows as neurons and as many columns as time steps with each [i,j] entry being the number of spikes arriving from the ith neuron on the jth time step."
   ]
  },
  {
   "cell_type": "code",
   "execution_count": null,
   "id": "14f7e997",
   "metadata": {},
   "outputs": [],
   "source": []
  },
  {
   "attachments": {},
   "cell_type": "markdown",
   "id": "b5494efc",
   "metadata": {},
   "source": [
    "---\n",
    "2. (3 pts) Plot a spike raster for the simulated spike train of each neuron in #1 above as in the lecture. *Hint: use plt.eventplot*"
   ]
  },
  {
   "cell_type": "code",
   "execution_count": null,
   "id": "c84ff8c4",
   "metadata": {},
   "outputs": [],
   "source": []
  },
  {
   "attachments": {},
   "cell_type": "markdown",
   "id": "28c2d0cc",
   "metadata": {},
   "source": [
    "---\n",
    "3. (3 pts) Consider a postsynaptic neuron that is recieving synaptic input from all of the 500 presynaptic neurons simulated above. Compute the total number of spikes that the postsynaptic neuron recieves during each time step of the simulation and plot it."
   ]
  },
  {
   "cell_type": "code",
   "execution_count": null,
   "id": "89915059",
   "metadata": {},
   "outputs": [],
   "source": []
  },
  {
   "attachments": {},
   "cell_type": "markdown",
   "id": "3f6799c9",
   "metadata": {},
   "source": [
    "---\n",
    "4. (3 pts)  The postsynaptic neuron's impulse response to each input spike is an exponential decay with amplitude 2 nS and time constant 4 ms. Convolve the net spike input from #3 with the postsynaptic neuron's input response to get the time series of the postsynaptic neuron's conductance response to the input spikes and plot it."
   ]
  },
  {
   "cell_type": "code",
   "execution_count": null,
   "id": "53388eac",
   "metadata": {},
   "outputs": [],
   "source": []
  }
 ],
 "metadata": {
  "kernelspec": {
   "display_name": "neu365p",
   "language": "python",
   "name": "python3"
  },
  "language_info": {
   "codemirror_mode": {
    "name": "ipython",
    "version": 3
   },
   "file_extension": ".py",
   "mimetype": "text/x-python",
   "name": "python",
   "nbconvert_exporter": "python",
   "pygments_lexer": "ipython3",
   "version": "3.11.0"
  },
  "vscode": {
   "interpreter": {
    "hash": "7b6fce1537a0f61b09a1c0f374c9c73e53e0122f3da97a6f70c30069bc6a1f20"
   }
  }
 },
 "nbformat": 4,
 "nbformat_minor": 5
}
