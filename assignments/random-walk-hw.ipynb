{
 "cells": [
  {
   "attachments": {},
   "cell_type": "markdown",
   "metadata": {},
   "source": [
    "# Homework - Random walk (12 pts)"
   ]
  },
  {
   "attachments": {},
   "cell_type": "markdown",
   "metadata": {},
   "source": [
    "---\n",
    "### Collaborators\n",
    "You MUST include a bulleted list with the full names of everyone you collaborated with on this assignment.\n",
    "- Jane Doe\n",
    "- John Doe"
   ]
  },
  {
   "attachments": {},
   "cell_type": "markdown",
   "metadata": {},
   "source": [
    "---\n",
    "For the following questions, consider particles undergoing a random walk in three dimensions. Each time step each particle will move by a random amount in the range -1 to 1 along each dimension."
   ]
  },
  {
   "attachments": {},
   "cell_type": "markdown",
   "metadata": {},
   "source": [
    "---\n",
    "1. (3 pts) Create variables to store the number of particles (500) and number of time steps (1000). Create a numpy array to store all of the positions for all particles across all time steps. *Note: You do not need to put this inside a function as we did in class.*"
   ]
  },
  {
   "cell_type": "code",
   "execution_count": null,
   "metadata": {},
   "outputs": [],
   "source": []
  },
  {
   "attachments": {},
   "cell_type": "markdown",
   "metadata": {},
   "source": [
    "---\n",
    "2. (3 pts) With all particles starting at position (0,0,0) on the first time step, run the simulation for all time steps. This should fill in the array you created above. *Hint: `np.random.uniform` may be of use.*"
   ]
  },
  {
   "cell_type": "code",
   "execution_count": null,
   "metadata": {},
   "outputs": [],
   "source": []
  },
  {
   "attachments": {},
   "cell_type": "markdown",
   "metadata": {},
   "source": [
    "---\n",
    "3. (3 pts) Plot snapshots of your simulation for time steps 10, 100, and 900. Make each plot a 3-D scatter plot of the particle positions for that time step. Ensure that the axes limits are the same for all plots and large enough to contain all of the particles in all plots so that you can visualize what is happening in your simulation. Include the time step in the title above each plot.\n",
    "\n",
    "*!!! Note: We did NOT cover 3-D scatter plots using Matplotlib in class, so you will have to look this up on your own.*"
   ]
  },
  {
   "cell_type": "code",
   "execution_count": null,
   "metadata": {},
   "outputs": [],
   "source": []
  },
  {
   "attachments": {},
   "cell_type": "markdown",
   "metadata": {},
   "source": [
    "---\n",
    "4. (3 pts) Plot a histogram of the distribution of jump distances for all particles across all time steps in your simulation."
   ]
  },
  {
   "cell_type": "code",
   "execution_count": null,
   "metadata": {},
   "outputs": [],
   "source": []
  }
 ],
 "metadata": {
  "kernelspec": {
   "display_name": "neu365p",
   "language": "python",
   "name": "python3"
  },
  "language_info": {
   "codemirror_mode": {
    "name": "ipython",
    "version": 3
   },
   "file_extension": ".py",
   "mimetype": "text/x-python",
   "name": "python",
   "nbconvert_exporter": "python",
   "pygments_lexer": "ipython3",
   "version": "3.11.0 | packaged by conda-forge | (main, Oct 25 2022, 06:21:25) [Clang 14.0.4 ]"
  },
  "orig_nbformat": 4,
  "vscode": {
   "interpreter": {
    "hash": "7b6fce1537a0f61b09a1c0f374c9c73e53e0122f3da97a6f70c30069bc6a1f20"
   }
  }
 },
 "nbformat": 4,
 "nbformat_minor": 2
}
